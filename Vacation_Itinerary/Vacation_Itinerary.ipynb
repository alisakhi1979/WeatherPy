{
 "cells": [
  {
   "cell_type": "markdown",
   "metadata": {},
   "source": [
    "## Deliverable 3. Create a Travel Itinerary Map."
   ]
  },
  {
   "cell_type": "code",
   "execution_count": 1,
   "metadata": {},
   "outputs": [],
   "source": [
    "# Dependencies and Setup\n",
    "import pandas as pd\n",
    "import requests\n",
    "import gmaps\n",
    "\n",
    "# Import API key\n",
    "from config import g_key\n",
    "\n",
    "# Configure gmaps\n",
    "gmaps.configure(api_key=g_key)"
   ]
  },
  {
   "cell_type": "code",
   "execution_count": 8,
   "metadata": {},
   "outputs": [
    {
     "data": {
      "text/html": [
       "<div>\n",
       "<style scoped>\n",
       "    .dataframe tbody tr th:only-of-type {\n",
       "        vertical-align: middle;\n",
       "    }\n",
       "\n",
       "    .dataframe tbody tr th {\n",
       "        vertical-align: top;\n",
       "    }\n",
       "\n",
       "    .dataframe thead th {\n",
       "        text-align: right;\n",
       "    }\n",
       "</style>\n",
       "<table border=\"1\" class=\"dataframe\">\n",
       "  <thead>\n",
       "    <tr style=\"text-align: right;\">\n",
       "      <th></th>\n",
       "      <th>City_ID</th>\n",
       "      <th>City</th>\n",
       "      <th>Country</th>\n",
       "      <th>Max Temp</th>\n",
       "      <th>Current Description</th>\n",
       "      <th>Lat</th>\n",
       "      <th>Lng</th>\n",
       "      <th>Hotel Name</th>\n",
       "    </tr>\n",
       "  </thead>\n",
       "  <tbody>\n",
       "    <tr>\n",
       "      <th>0</th>\n",
       "      <td>9</td>\n",
       "      <td>Saldanha</td>\n",
       "      <td>ZA</td>\n",
       "      <td>51.85</td>\n",
       "      <td>overcast clouds</td>\n",
       "      <td>-33.0117</td>\n",
       "      <td>17.9442</td>\n",
       "      <td>Blue Bay Lodge</td>\n",
       "    </tr>\n",
       "    <tr>\n",
       "      <th>1</th>\n",
       "      <td>16</td>\n",
       "      <td>Hermanus</td>\n",
       "      <td>ZA</td>\n",
       "      <td>52.81</td>\n",
       "      <td>overcast clouds</td>\n",
       "      <td>-34.4187</td>\n",
       "      <td>19.2345</td>\n",
       "      <td>Misty Waves Boutique Hotel</td>\n",
       "    </tr>\n",
       "    <tr>\n",
       "      <th>2</th>\n",
       "      <td>25</td>\n",
       "      <td>Prieska</td>\n",
       "      <td>ZA</td>\n",
       "      <td>55.47</td>\n",
       "      <td>clear sky</td>\n",
       "      <td>-29.6641</td>\n",
       "      <td>22.7474</td>\n",
       "      <td>Avenue GuestHouse</td>\n",
       "    </tr>\n",
       "    <tr>\n",
       "      <th>3</th>\n",
       "      <td>35</td>\n",
       "      <td>Balezino</td>\n",
       "      <td>RU</td>\n",
       "      <td>53.49</td>\n",
       "      <td>overcast clouds</td>\n",
       "      <td>57.9796</td>\n",
       "      <td>53.0106</td>\n",
       "      <td>Dom Otdykha Lokomotivnykh Brigad</td>\n",
       "    </tr>\n",
       "    <tr>\n",
       "      <th>4</th>\n",
       "      <td>47</td>\n",
       "      <td>Ambatofinandrahana</td>\n",
       "      <td>MG</td>\n",
       "      <td>52.23</td>\n",
       "      <td>clear sky</td>\n",
       "      <td>-20.5500</td>\n",
       "      <td>46.8000</td>\n",
       "      <td>TATAMO</td>\n",
       "    </tr>\n",
       "  </tbody>\n",
       "</table>\n",
       "</div>"
      ],
      "text/plain": [
       "   City_ID                City Country  Max Temp Current Description      Lat  \\\n",
       "0        9            Saldanha      ZA     51.85     overcast clouds -33.0117   \n",
       "1       16            Hermanus      ZA     52.81     overcast clouds -34.4187   \n",
       "2       25             Prieska      ZA     55.47           clear sky -29.6641   \n",
       "3       35            Balezino      RU     53.49     overcast clouds  57.9796   \n",
       "4       47  Ambatofinandrahana      MG     52.23           clear sky -20.5500   \n",
       "\n",
       "       Lng                        Hotel Name  \n",
       "0  17.9442                    Blue Bay Lodge  \n",
       "1  19.2345        Misty Waves Boutique Hotel  \n",
       "2  22.7474                 Avenue GuestHouse  \n",
       "3  53.0106  Dom Otdykha Lokomotivnykh Brigad  \n",
       "4  46.8000                            TATAMO  "
      ]
     },
     "execution_count": 8,
     "metadata": {},
     "output_type": "execute_result"
    }
   ],
   "source": [
    "# 1. Read the WeatherPy_vacation.csv into a DataFrame.\n",
    "vacation_df = pd.read_csv(\"../Vacation_Search/WeatherPy_vacation.csv\")\n",
    "vacation_df.head()"
   ]
  },
  {
   "cell_type": "code",
   "execution_count": 9,
   "metadata": {},
   "outputs": [],
   "source": [
    "# 2. Using the template add the city name, the country code, the weather description and maximum temperature for the city.\n",
    "info_box_template = \"\"\"\n",
    "<dl>\n",
    "<dt>Hotel Name</dt><dd>{Hotel Name}</dd>\n",
    "<dt>City </dt><dd>{City}</dd>\n",
    "<dt>Country </dt><dd>{Country}</dd>\n",
    "<dt>Current Weather </dt><dd>{Current Description} </dt>and </dt> {Max Temp} </dt> F </dd>\n",
    "</dl>\n",
    "\"\"\"\n",
    "\n",
    "# 3a. Get the data from each row and add it to the formatting template and store the data in a list.\n",
    "hotel_info = [info_box_template.format(**row) for index, row in vacation_df.iterrows()]\n",
    "\n",
    "# 3b. Get the latitude and longitude from each row and store in a new DataFrame.\n",
    "locations = vacation_df[[\"Lat\", \"Lng\"]]"
   ]
  },
  {
   "cell_type": "code",
   "execution_count": 10,
   "metadata": {},
   "outputs": [
    {
     "data": {
      "application/vnd.jupyter.widget-view+json": {
       "model_id": "64b71ef052ec4256b3cfa18dfd962d9a",
       "version_major": 2,
       "version_minor": 0
      },
      "text/plain": [
       "Figure(layout=FigureLayout(height='420px'))"
      ]
     },
     "metadata": {},
     "output_type": "display_data"
    }
   ],
   "source": [
    "# 4a. Add a marker layer for each city to the map.\n",
    "fig = gmaps.figure(map_type=\"ROADMAP\", zoom_level= 2, center = (28.0000, 20.0000))\n",
    "# 4b. Display the figure\n",
    "marker_layer = gmaps.marker_layer(locations, info_box_content = hotel_info)\n",
    "fig.add_layer(marker_layer)\n",
    "fig\n"
   ]
  },
  {
   "cell_type": "code",
   "execution_count": 21,
   "metadata": {},
   "outputs": [],
   "source": [
    "# From the map above pick 4 cities and create a vacation itinerary route to travel between the four cities. \n",
    "# 5. Create DataFrames for each city by filtering the 'vacation_df' using the loc method. \n",
    "# Hint: The starting and ending city should be the same city.\n",
    "\n",
    "vacation_start = vacation_df.loc[vacation_df[\"City\"] ==\"Cape Town\"]\n",
    "vacation_end = vacation_df.loc[vacation_df[\"City\"] ==\"Cape Town\"]\n",
    "vacation_stop1 = vacation_df.loc[vacation_df[\"City\"] ==\"Bredasdorp\"]\n",
    "vacation_stop2 = vacation_df.loc[vacation_df[\"City\"] ==\"Kruisfontein\"] \n",
    "vacation_stop3 = vacation_df.loc[vacation_df[\"City\"] ==\"Prieska\"] "
   ]
  },
  {
   "cell_type": "code",
   "execution_count": 18,
   "metadata": {},
   "outputs": [
    {
     "data": {
      "text/plain": [
       "(-30.0319, -70.7081)"
      ]
     },
     "execution_count": 18,
     "metadata": {},
     "output_type": "execute_result"
    }
   ],
   "source": [
    "start"
   ]
  },
  {
   "cell_type": "code",
   "execution_count": 22,
   "metadata": {},
   "outputs": [],
   "source": [
    "# 6. Get the latitude-longitude pairs as tuples from each city DataFrame using the to_numpy function and list indexing.\n",
    "start = vacation_start[\"Lat\"].to_numpy()[0],vacation_start[\"Lng\"].to_numpy()[0]\n",
    "end = vacation_end[\"Lat\"].to_numpy()[0],vacation_end[\"Lng\"].to_numpy()[0]\n",
    "stop1 = vacation_stop1[\"Lat\"].to_numpy()[0],vacation_stop1[\"Lng\"].to_numpy()[0]\n",
    "stop2 = vacation_stop2[\"Lat\"].to_numpy()[0],vacation_stop2[\"Lng\"].to_numpy()[0]\n",
    "stop3 = vacation_stop3[\"Lat\"].to_numpy()[0],vacation_stop3[\"Lng\"].to_numpy()[0]"
   ]
  },
  {
   "cell_type": "code",
   "execution_count": 23,
   "metadata": {
    "scrolled": true
   },
   "outputs": [
    {
     "data": {
      "application/vnd.jupyter.widget-view+json": {
       "model_id": "fef984e2bf8849f3ada801fcb3102300",
       "version_major": 2,
       "version_minor": 0
      },
      "text/plain": [
       "Figure(layout=FigureLayout(height='420px'))"
      ]
     },
     "metadata": {},
     "output_type": "display_data"
    }
   ],
   "source": [
    "# 7. Create a direction layer map using the start and end latitude-longitude pairs,\n",
    "# and stop1, stop2, and stop3 as the waypoints. The travel_mode should be \"DRIVING\", \"BICYCLING\", or \"WALKING\".\n",
    "fig = gmaps.figure()\n",
    "city_itinerary = gmaps.directions_layer(\n",
    "        start, end, waypoints=[stop1, stop2, stop3],\n",
    "        travel_mode='DRIVING')\n",
    "\n",
    "fig.add_layer(city_itinerary)\n",
    "fig\n"
   ]
  },
  {
   "cell_type": "code",
   "execution_count": 24,
   "metadata": {},
   "outputs": [
    {
     "data": {
      "text/html": [
       "<div>\n",
       "<style scoped>\n",
       "    .dataframe tbody tr th:only-of-type {\n",
       "        vertical-align: middle;\n",
       "    }\n",
       "\n",
       "    .dataframe tbody tr th {\n",
       "        vertical-align: top;\n",
       "    }\n",
       "\n",
       "    .dataframe thead th {\n",
       "        text-align: right;\n",
       "    }\n",
       "</style>\n",
       "<table border=\"1\" class=\"dataframe\">\n",
       "  <thead>\n",
       "    <tr style=\"text-align: right;\">\n",
       "      <th></th>\n",
       "      <th>City_ID</th>\n",
       "      <th>City</th>\n",
       "      <th>Country</th>\n",
       "      <th>Max Temp</th>\n",
       "      <th>Current Description</th>\n",
       "      <th>Lat</th>\n",
       "      <th>Lng</th>\n",
       "      <th>Hotel Name</th>\n",
       "    </tr>\n",
       "  </thead>\n",
       "  <tbody>\n",
       "    <tr>\n",
       "      <th>0</th>\n",
       "      <td>66</td>\n",
       "      <td>Cape Town</td>\n",
       "      <td>ZA</td>\n",
       "      <td>53.11</td>\n",
       "      <td>fog</td>\n",
       "      <td>-33.9258</td>\n",
       "      <td>18.4232</td>\n",
       "      <td>Southern Sun Waterfront Cape Town</td>\n",
       "    </tr>\n",
       "    <tr>\n",
       "      <th>1</th>\n",
       "      <td>153</td>\n",
       "      <td>Cape Town</td>\n",
       "      <td>ZA</td>\n",
       "      <td>53.11</td>\n",
       "      <td>fog</td>\n",
       "      <td>-33.9258</td>\n",
       "      <td>18.4232</td>\n",
       "      <td>Southern Sun Waterfront Cape Town</td>\n",
       "    </tr>\n",
       "    <tr>\n",
       "      <th>2</th>\n",
       "      <td>66</td>\n",
       "      <td>Cape Town</td>\n",
       "      <td>ZA</td>\n",
       "      <td>53.11</td>\n",
       "      <td>fog</td>\n",
       "      <td>-33.9258</td>\n",
       "      <td>18.4232</td>\n",
       "      <td>Southern Sun Waterfront Cape Town</td>\n",
       "    </tr>\n",
       "    <tr>\n",
       "      <th>3</th>\n",
       "      <td>153</td>\n",
       "      <td>Cape Town</td>\n",
       "      <td>ZA</td>\n",
       "      <td>53.11</td>\n",
       "      <td>fog</td>\n",
       "      <td>-33.9258</td>\n",
       "      <td>18.4232</td>\n",
       "      <td>Southern Sun Waterfront Cape Town</td>\n",
       "    </tr>\n",
       "    <tr>\n",
       "      <th>4</th>\n",
       "      <td>177</td>\n",
       "      <td>Bredasdorp</td>\n",
       "      <td>ZA</td>\n",
       "      <td>52.29</td>\n",
       "      <td>overcast clouds</td>\n",
       "      <td>-34.5322</td>\n",
       "      <td>20.0403</td>\n",
       "      <td>Bredasdorp Country Manor</td>\n",
       "    </tr>\n",
       "    <tr>\n",
       "      <th>5</th>\n",
       "      <td>226</td>\n",
       "      <td>Kruisfontein</td>\n",
       "      <td>ZA</td>\n",
       "      <td>54.88</td>\n",
       "      <td>overcast clouds</td>\n",
       "      <td>-34.0033</td>\n",
       "      <td>24.7314</td>\n",
       "      <td>Oyster Bay House Rental</td>\n",
       "    </tr>\n",
       "    <tr>\n",
       "      <th>6</th>\n",
       "      <td>25</td>\n",
       "      <td>Prieska</td>\n",
       "      <td>ZA</td>\n",
       "      <td>55.47</td>\n",
       "      <td>clear sky</td>\n",
       "      <td>-29.6641</td>\n",
       "      <td>22.7474</td>\n",
       "      <td>Avenue GuestHouse</td>\n",
       "    </tr>\n",
       "    <tr>\n",
       "      <th>7</th>\n",
       "      <td>112</td>\n",
       "      <td>Prieska</td>\n",
       "      <td>ZA</td>\n",
       "      <td>55.47</td>\n",
       "      <td>clear sky</td>\n",
       "      <td>-29.6641</td>\n",
       "      <td>22.7474</td>\n",
       "      <td>Avenue GuestHouse</td>\n",
       "    </tr>\n",
       "  </tbody>\n",
       "</table>\n",
       "</div>"
      ],
      "text/plain": [
       "   City_ID          City Country  Max Temp Current Description      Lat  \\\n",
       "0       66     Cape Town      ZA     53.11                 fog -33.9258   \n",
       "1      153     Cape Town      ZA     53.11                 fog -33.9258   \n",
       "2       66     Cape Town      ZA     53.11                 fog -33.9258   \n",
       "3      153     Cape Town      ZA     53.11                 fog -33.9258   \n",
       "4      177    Bredasdorp      ZA     52.29     overcast clouds -34.5322   \n",
       "5      226  Kruisfontein      ZA     54.88     overcast clouds -34.0033   \n",
       "6       25       Prieska      ZA     55.47           clear sky -29.6641   \n",
       "7      112       Prieska      ZA     55.47           clear sky -29.6641   \n",
       "\n",
       "       Lng                         Hotel Name  \n",
       "0  18.4232  Southern Sun Waterfront Cape Town  \n",
       "1  18.4232  Southern Sun Waterfront Cape Town  \n",
       "2  18.4232  Southern Sun Waterfront Cape Town  \n",
       "3  18.4232  Southern Sun Waterfront Cape Town  \n",
       "4  20.0403           Bredasdorp Country Manor  \n",
       "5  24.7314            Oyster Bay House Rental  \n",
       "6  22.7474                  Avenue GuestHouse  \n",
       "7  22.7474                  Avenue GuestHouse  "
      ]
     },
     "execution_count": 24,
     "metadata": {},
     "output_type": "execute_result"
    }
   ],
   "source": [
    "# 8. To create a marker layer map between the four cities.\n",
    "#  Combine the four city DataFrames into one DataFrame using the concat() function.\n",
    "itinerary_df = pd.concat([vacation_start, vacation_end, vacation_stop1,vacation_stop2,vacation_stop3],ignore_index=True)\n",
    "itinerary_df"
   ]
  },
  {
   "cell_type": "code",
   "execution_count": 25,
   "metadata": {},
   "outputs": [],
   "source": [
    "# 9 Using the template add city name, the country code, the weather description and maximum temperature for the city. \n",
    "info_box_template = \"\"\"\n",
    "<dl>\n",
    "<dt>Hotel Name</dt><dd>{Hotel Name}</dd>\n",
    "<dt>City </dt><dd>{City}</dd>\n",
    "<dt>Country </dt><dd>{Country}</dd>\n",
    "<dt>Current Weather </dt><dd>{Current Description} </dt>and </dt> {Max Temp} </dt> F </dd>\n",
    "</dl>\n",
    "\"\"\"\n",
    "\n",
    "# 10a Get the data from each row and add it to the formatting template and store the data in a list.\n",
    "hotel_info = [info_box_template.format(**row) for index, row in itinerary_df.iterrows()]\n",
    "\n",
    "# 10b. Get the latitude and longitude from each row and store in a new DataFrame.\n",
    "locations = itinerary_df[[\"Lat\", \"Lng\"]]"
   ]
  },
  {
   "cell_type": "code",
   "execution_count": 26,
   "metadata": {},
   "outputs": [
    {
     "data": {
      "application/vnd.jupyter.widget-view+json": {
       "model_id": "3ad6707f19c941da950e063793f30633",
       "version_major": 2,
       "version_minor": 0
      },
      "text/plain": [
       "Figure(layout=FigureLayout(height='420px'))"
      ]
     },
     "metadata": {},
     "output_type": "display_data"
    }
   ],
   "source": [
    "# 11a. Add a marker layer for each city to the map.\n",
    "\n",
    "# 11b. Display the figure\n",
    "fig = gmaps.figure(map_type=\"ROADMAP\")#, zoom_level= 2, center = (28.0000, 20.0000))\n",
    "\n",
    "# 11b. Display the figure\n",
    "marker_layer = gmaps.marker_layer(locations, info_box_content = hotel_info)\n",
    "fig.add_layer(marker_layer)\n",
    "fig"
   ]
  },
  {
   "cell_type": "code",
   "execution_count": null,
   "metadata": {},
   "outputs": [],
   "source": []
  }
 ],
 "metadata": {
  "kernelspec": {
   "display_name": "PythonData",
   "language": "python",
   "name": "pythondata"
  },
  "language_info": {
   "codemirror_mode": {
    "name": "ipython",
    "version": 3
   },
   "file_extension": ".py",
   "mimetype": "text/x-python",
   "name": "python",
   "nbconvert_exporter": "python",
   "pygments_lexer": "ipython3",
   "version": "3.8.8"
  },
  "latex_envs": {
   "LaTeX_envs_menu_present": true,
   "autoclose": false,
   "autocomplete": true,
   "bibliofile": "biblio.bib",
   "cite_by": "apalike",
   "current_citInitial": 1,
   "eqLabelWithNumbers": true,
   "eqNumInitial": 1,
   "hotkeys": {
    "equation": "Ctrl-E",
    "itemize": "Ctrl-I"
   },
   "labels_anchors": false,
   "latex_user_defs": false,
   "report_style_numbering": false,
   "user_envs_cfg": false
  }
 },
 "nbformat": 4,
 "nbformat_minor": 2
}
